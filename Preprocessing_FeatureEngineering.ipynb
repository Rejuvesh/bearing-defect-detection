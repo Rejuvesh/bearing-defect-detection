{
 "cells": [
  {
   "cell_type": "code",
   "execution_count": 2,
   "id": "cfeae20c-bdd0-4f58-a5d8-d0007e5ed55f",
   "metadata": {},
   "outputs": [],
   "source": [
    "import pandas as pd\n",
    "import numpy as np\n",
    "import seaborn as sns\n",
    "import matplotlib.pyplot as plt\n",
    "from sklearn.model_selection import train_test_split\n",
    "from sklearn.preprocessing import StandardScaler, OneHotEncoder\n",
    "from sklearn.compose import ColumnTransformer\n",
    "from sklearn.pipeline import Pipeline\n",
    "from sklearn.impute import SimpleImputer\n",
    "from sklearn.metrics import classification_report\n",
    "from imblearn.over_sampling import SMOTE\n",
    "from imblearn.pipeline import Pipeline as ImbPipeline\n"
   ]
  },
  {
   "cell_type": "markdown",
   "id": "a2e11632-8fd7-4ea0-88e3-dd7bc67cdb10",
   "metadata": {},
   "source": [
    "###  Step 1: Import Required Libraries for Preprocessing\n",
    "\n",
    "In this step, I imported all the necessary Python libraries required for preprocessing and modeling:\n",
    "\n",
    "- `pandas` & `numpy`: For handling data structures and numerical operations.\n",
    "- `seaborn`: For visualizations (optional, used mainly during EDA).\n",
    "- `train_test_split`: To split the dataset into training and testing sets.\n",
    "- `StandardScaler`: To normalize/scale numerical features.\n",
    "- `OneHotEncoder`: To convert categorical variables into numeric format.\n",
    "- `ColumnTransformer`: To combine transformations for numerical and categorical features.\n",
    "- `Pipeline`: To streamline preprocessing steps into a clean and modular pipeline.\n",
    "- `SimpleImputer`: To handle missing values by filling them with mean, median, or mode.\n",
    "- `SMOTE` from `imblearn`: To handle the class imbalance by oversampling the minority class.\n",
    "- `Pipeline` from `imblearn`: To combine SMOTE with preprocessing in a single flow.\n",
    "\n",
    "These libraries will help automate and standardize the preprocessing tasks, making the model-building process more efficient and reproducible.\n"
   ]
  },
  {
   "cell_type": "code",
   "execution_count": 3,
   "id": "b21dd161-433e-4f3b-b04c-cfa5e5e273f4",
   "metadata": {},
   "outputs": [],
   "source": [
    "# Load dataset\n",
    "df = pd.read_csv(\"bearing_defects_mixed_dataset.csv\")\n",
    "\n",
    "# Drop timestamp as it's only useful for temporal EDA, not for modeling\n",
    "df.drop(columns=['timestamp'], inplace=True)\n"
   ]
  },
  {
   "cell_type": "markdown",
   "id": "bf4d9602-f7c8-4040-80a2-63e0dfd86130",
   "metadata": {},
   "source": [
    "###  Step 2: Load Dataset and Drop Timestamp Column\n",
    "\n",
    "- I loaded the dataset using `pd.read_csv()` and stored it in a DataFrame named `df`.\n",
    "- Since I already used the `timestamp` column for time-based EDA earlier, I decided to **drop it** from the dataset for modeling purposes using `df.drop()`.\n",
    "\n",
    " Reason for dropping `timestamp`:\n",
    "- It doesn't provide direct predictive power for the classification task.\n",
    "- Models work better with structured, numerical, or encoded inputs — and since timestamp wasn't engineered into meaningful features (like \"hour\", \"month\", etc.), it's excluded for now.\n"
   ]
  },
  {
   "cell_type": "code",
   "execution_count": 4,
   "id": "7939993f-9a17-4e1f-9449-dd0b864cae92",
   "metadata": {},
   "outputs": [
    {
     "name": "stdout",
     "output_type": "stream",
     "text": [
      "Target distribution:\n",
      " defect\n",
      "0    197910\n",
      "1      2090\n",
      "Name: count, dtype: int64\n"
     ]
    }
   ],
   "source": [
    "# Define X and y\n",
    "X = df.drop(\"defect\", axis=1)\n",
    "y = df[\"defect\"]\n",
    "\n",
    "# Check class distribution\n",
    "print(\"Target distribution:\\n\", y.value_counts())\n"
   ]
  },
  {
   "cell_type": "markdown",
   "id": "fd2c9ba8-0ac4-48de-91a0-75e8c1b45dc2",
   "metadata": {},
   "source": [
    "###  Step 3: Define Features and Target and Check Class Imbalance\n",
    "\n",
    "I separated the dataset into:\n",
    "\n",
    "- **`X`**: All input features (excluding the target column `defect`)\n",
    "- **`y`**: The target variable `defect`, which indicates whether a bearing is defective (`1`) or not (`0`)\n",
    "\n",
    "To inspect the class balance in the target variable, I used `y.value_counts()`.\n",
    "\n",
    " The result showed:\n",
    "\n",
    "- Class `0` (No Defect): 197,910 samples  \n",
    "- Class `1` (Defect): 2,090 samples\n",
    "\n",
    "This indicates a **highly imbalanced dataset**, where defective bearings make up only about **1%** of the data. This imbalance needs to be addressed before model training, and I plan to handle it using **SMOTE** (Synthetic Minority Over-sampling Technique).\n"
   ]
  },
  {
   "cell_type": "code",
   "execution_count": 5,
   "id": "262e10b8-6b28-40f9-93dd-d1ba1baed158",
   "metadata": {},
   "outputs": [],
   "source": [
    "# Categorical and numerical features\n",
    "categorical_features = ['material_type', 'machine_type', 'lubrication_type', 'operation_condition', 'maintenance_level']\n",
    "numerical_features = X.select_dtypes(include=['float64', 'int64']).columns.tolist()\n",
    "numerical_features = [col for col in numerical_features if col not in categorical_features]\n"
   ]
  },
  {
   "cell_type": "markdown",
   "id": "cefe54be-b385-475b-afef-4aa2fddf3547",
   "metadata": {},
   "source": [
    "###  Step 4: Identify Categorical and Numerical Features\n",
    "\n",
    "In this step, I separated the features into two categories:\n",
    "\n",
    "- **Categorical features**: Manually listed based on domain knowledge —  \n",
    "  `material_type`, `machine_type`, `lubrication_type`, `operation_condition`, and `maintenance_level`.\n",
    "\n",
    "- **Numerical features**: Automatically selected using `select_dtypes()` to include only `int64` and `float64` types.  \n",
    "  I then filtered out any columns that are in the `categorical_features` list, just to be safe.\n",
    "\n",
    "This step helps in applying the right preprocessing techniques later — like encoding for categorical variables and scaling for numerical ones.\n"
   ]
  },
  {
   "cell_type": "code",
   "execution_count": 6,
   "id": "4bfaa62d-64a7-47b1-8f40-08474f2fbc5c",
   "metadata": {},
   "outputs": [],
   "source": [
    "\n",
    "\n",
    "# Numerical pipeline\n",
    "numeric_transformer = Pipeline(steps=[\n",
    "    ('imputer', SimpleImputer(strategy='median')),\n",
    "    ('scaler', StandardScaler())\n",
    "])\n",
    "\n",
    "# Categorical pipeline\n",
    "categorical_transformer = Pipeline(steps=[\n",
    "    ('imputer', SimpleImputer(strategy='most_frequent')),\n",
    "    ('onehot', OneHotEncoder(drop='first', sparse_output=False))  # updated here\n",
    "])\n",
    "\n",
    "# Combine both pipelines\n",
    "preprocessor = ColumnTransformer(\n",
    "    transformers=[\n",
    "        ('num', numeric_transformer, numerical_features),\n",
    "        ('cat', categorical_transformer, categorical_features)\n",
    "    ])\n"
   ]
  },
  {
   "cell_type": "markdown",
   "id": "f7c2d60a-14ca-45e7-a858-b60bcccf1bb7",
   "metadata": {},
   "source": [
    "###  Step 5: Build Preprocessing Pipelines\n",
    "\n",
    "I created two separate pipelines to handle preprocessing for:\n",
    "\n",
    "- **Numerical features**:\n",
    "  - Filled missing values using the **median**.\n",
    "  - Scaled the values using **StandardScaler** for normalization.\n",
    "\n",
    "- **Categorical features**:\n",
    "  - Filled missing values with the **most frequent** category.\n",
    "  - Converted categories into numbers using **OneHotEncoder**, dropping the first to avoid redundancy.\n",
    "\n",
    "These two pipelines were combined using **ColumnTransformer**, so the right steps are applied to the right columns automatically.\n"
   ]
  },
  {
   "cell_type": "code",
   "execution_count": 7,
   "id": "e835f606-8eef-427e-87a7-69b9107a097a",
   "metadata": {},
   "outputs": [],
   "source": [
    "# Split dataset\n",
    "X_train, X_test, y_train, y_test = train_test_split(X, y, test_size=0.2, stratify=y, random_state=42)\n"
   ]
  },
  {
   "cell_type": "markdown",
   "id": "8668c4f6-a983-4118-a995-99d5747ddb1b",
   "metadata": {},
   "source": [
    "###  Step 6: Split Dataset into Train and Test Sets\n",
    "\n",
    "I split the dataset into:\n",
    "\n",
    "- **Training set (80%)**: Used to train the model.\n",
    "- **Test set (20%)**: Used to evaluate the model's performance on unseen data.\n",
    "\n",
    "I used `stratify=y` to ensure that both training and test sets maintain the same class distribution as the original dataset — which is important due to the class imbalance.\n",
    "\n",
    "The `random_state=42` ensures reproducibility of results.\n"
   ]
  },
  {
   "cell_type": "code",
   "execution_count": 8,
   "id": "181db25e-d54d-4218-9e40-dac05843226d",
   "metadata": {},
   "outputs": [
    {
     "name": "stdout",
     "output_type": "stream",
     "text": [
      "Before SMOTE: defect\n",
      "0    158328\n",
      "1      1672\n",
      "Name: count, dtype: int64\n",
      "After SMOTE: defect\n",
      "0    158328\n",
      "1    158328\n",
      "Name: count, dtype: int64\n"
     ]
    }
   ],
   "source": [
    "# Build preprocessing and SMOTE pipeline\n",
    "pipeline = ImbPipeline(steps=[\n",
    "    ('preprocess', preprocessor),\n",
    "    ('smote', SMOTE(random_state=42))\n",
    "])\n",
    "\n",
    "# Fit and transform X_train\n",
    "X_train_res, y_train_res = pipeline.fit_resample(X_train, y_train)\n",
    "\n",
    "# Just transform X_test (no SMOTE)\n",
    "X_test_proc = preprocessor.transform(X_test)\n",
    "\n",
    "# Showing class distribution after resampling\n",
    "print(\"Before SMOTE:\", y_train.value_counts())\n",
    "print(\"After SMOTE:\", pd.Series(y_train_res).value_counts())\n"
   ]
  },
  {
   "cell_type": "markdown",
   "id": "3c34b8e8-a773-4b26-883a-15bb51abfcfe",
   "metadata": {},
   "source": [
    "###  Step 7: Build Preprocessing + SMOTE Pipeline\n",
    "\n",
    "- An `ImbPipeline` was created to **combine preprocessing and SMOTE** into one seamless step:\n",
    "  - `'preprocess'`: Applies transformations defined earlier (imputation, scaling, encoding).\n",
    "  - `'smote'`: Applies SMOTE (Synthetic Minority Over-sampling Technique) to balance the imbalanced dataset by synthetically generating samples for the minority class.\n",
    "\n",
    "- `X_train` and `y_train` were passed through `.fit_resample()`:\n",
    "  - **Preprocessing was applied**\n",
    "  - **SMOTE oversampled the minority class**\n",
    "\n",
    "- `X_test` was only transformed (not resampled) using the preprocessor.\n",
    "\n",
    "####  Class Distribution Before and After SMOTE:\n",
    "- **Before SMOTE**:\n",
    "  - Class `0`: 158,328 samples\n",
    "  - Class `1`: 1,672 samples\n",
    "- **After SMOTE**:\n",
    "  - Both Class `0` and `1` now have **158,328 samples each**, indicating perfect class balance.\n",
    "\n",
    "This step helps improve the model's ability to learn from rare defect cases (minority class).\n"
   ]
  },
  {
   "cell_type": "code",
   "execution_count": 9,
   "id": "a2936ddb-6452-42bf-b8e2-1ac8378c0eae",
   "metadata": {},
   "outputs": [
    {
     "data": {
      "text/plain": [
       "Text(0.5, 1.0, 'Class Distribution After SMOTE')"
      ]
     },
     "execution_count": 9,
     "metadata": {},
     "output_type": "execute_result"
    },
    {
     "data": {
      "image/png": "[encoded data removed]",
      "text/plain": [
       "<Figure size 640x480 with 1 Axes>"
      ]
     },
     "metadata": {},
     "output_type": "display_data"
    }
   ],
   "source": [
    "#To double-check, we could visualize it:\n",
    "sns.countplot(x=y_train_res)\n",
    "plt.title(\"Class Distribution After SMOTE\")\n"
   ]
  },
  {
   "cell_type": "markdown",
   "id": "fcd96479-b14f-4f5d-a0e2-1340ba45272f",
   "metadata": {},
   "source": [
    "###  Observation: Class Distribution After SMOTE\n",
    "\n",
    "The bar plot shows that both classes — defect = 0 (no defect) and defect = 1 (defect) — now have an equal number of samples after applying SMOTE. This confirms that the class imbalance issue has been resolved. The balanced distribution ensures that the model will not be biased toward the majority class and will have equal opportunity to learn patterns from both defect and non-defect cases.\n"
   ]
  },
  {
   "cell_type": "code",
   "execution_count": 10,
   "id": "e642199e-7b56-4bbe-a530-4a3cb8aefd8f",
   "metadata": {},
   "outputs": [],
   "source": [
    "# Save preprocessed numpy arrays if needed\n",
    "np.save(\"X_train_res.npy\", X_train_res)\n",
    "np.save(\"y_train_res.npy\", y_train_res)\n",
    "np.save(\"X_test_proc.npy\", X_test_proc)\n",
    "np.save(\"y_test.npy\", y_test.to_numpy())\n"
   ]
  },
  {
   "cell_type": "markdown",
   "id": "c63cfe84-a685-4dcd-9258-dad1d12dc8af",
   "metadata": {},
   "source": [
    "###  Saving Preprocessed Data\n",
    "\n",
    "The preprocessed training and testing datasets are saved as `.npy` (NumPy array) files using `np.save()`. This is useful for quickly reloading the data later without repeating preprocessing steps like scaling, encoding, and SMOTE. \n",
    "\n",
    "- `X_train_res.npy` and `y_train_res.npy` store the resampled (balanced) training features and labels.\n",
    "- `X_test_proc.npy` contains the transformed testing features.\n",
    "- `y_test.npy` saves the original test labels as a NumPy array.\n",
    "\n",
    "This step enhances reproducibility and speeds up future model training.\n"
   ]
  },
  {
   "cell_type": "markdown",
   "id": "770e4276-6c05-4f5d-a89d-60e5158152ae",
   "metadata": {},
   "source": [
    "###  Preprocessing Summary\n",
    "\n",
    "1. **Library Imports**  \n",
    "   Imported all required libraries for data handling, preprocessing, visualization, and handling class imbalance.\n",
    "\n",
    "2. **Data Loading and Cleaning**  \n",
    "   - Loaded the dataset using `pd.read_csv()`.\n",
    "   - Dropped the `timestamp` column since it’s not directly useful for modeling.\n",
    "\n",
    "3. **Feature and Target Separation**  \n",
    "   - Defined `X` as input features and `y` as the target (`defect`).\n",
    "   - Observed a class imbalance, with very few defective cases compared to non-defective ones.\n",
    "\n",
    "4. **Feature Classification**  \n",
    "   - Identified and separated **categorical** and **numerical** columns for proper preprocessing.\n",
    "\n",
    "5. **Pipeline Construction**  \n",
    "   - Built preprocessing pipelines:\n",
    "     - **Numerical**: Filled missing values with median, scaled features.\n",
    "     - **Categorical**: Filled missing values with most frequent values, then applied one-hot encoding.\n",
    "   - Combined both using `ColumnTransformer`.\n",
    "\n",
    "6. **Train-Test Split**  \n",
    "   - Split data into training (80%) and testing (20%) sets.\n",
    "   - Used `stratify=y` to maintain class proportions in both sets.\n",
    "\n",
    "7. **Class Imbalance Handling with SMOTE**  \n",
    "   - Applied SMOTE only to training data to synthetically balance classes.\n",
    "   - Verified balance using count plot.\n",
    "\n",
    "8. **Saving Preprocessed Data**  \n",
    "   - Saved preprocessed training and testing sets as `.npy` files for easy reuse without repeating preprocessing.\n",
    "\n",
    " The preprocessing ensures clean, balanced, and ready-to-use data for model training and evaluation.\n"
   ]
  }
 ],
 "metadata": {
  "kernelspec": {
   "display_name": "Python 3.10 (tfenv)",
   "language": "python",
   "name": "tfenv"
  },
  "language_info": {
   "codemirror_mode": {
    "name": "ipython",
    "version": 3
   },
   "file_extension": ".py",
   "mimetype": "text/x-python",
   "name": "python",
   "nbconvert_exporter": "python",
   "pygments_lexer": "ipython3",
   "version": "3.10.0"
  }
 },
 "nbformat": 4,
 "nbformat_minor": 5
}
